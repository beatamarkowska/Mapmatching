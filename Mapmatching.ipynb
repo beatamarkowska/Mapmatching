{
 "cells": [
  {
   "cell_type": "markdown",
   "id": "5fd49ccf-c298-4249-9195-8344b66536dc",
   "metadata": {},
   "source": [
    "Matching noisy GPS trajectory data to underlying road segments using OpenStreetMap road network data."
   ]
  },
  {
   "cell_type": "code",
   "execution_count": 1,
   "id": "8c86095e-7ae8-4125-91ad-3a45d68fdbf2",
   "metadata": {},
   "outputs": [],
   "source": [
    "import json\n",
    "from shapely.geometry import LineString\n",
    "from pyspark.sql.window import Window\n",
    "from pyspark.sql.functions import col, expr, udf, collect_list, struct, row_number, lit\n",
    "from sedona.spark import *"
   ]
  },
  {
   "cell_type": "code",
   "execution_count": 3,
   "id": "14887fe1-efba-4663-99e2-2609fedef267",
   "metadata": {
    "execution": {
     "iopub.execute_input": "2025-04-10T18:58:31.666864Z",
     "iopub.status.busy": "2025-04-10T18:58:31.666114Z",
     "iopub.status.idle": "2025-04-10T18:58:31.670292Z",
     "shell.execute_reply": "2025-04-10T18:58:31.669779Z",
     "shell.execute_reply.started": "2025-04-10T18:58:31.666838Z"
    }
   },
   "outputs": [],
   "source": [
    "from pyspark.sql.functions import udf\n",
    "from sedona.sql.types import GeometryType\n",
    "from pyspark.sql.types import ArrayType, StructType, StructField, LongType, DoubleType"
   ]
  },
  {
   "cell_type": "markdown",
   "id": "adf5aaaa-fb35-4533-88b4-4dbca13242fe",
   "metadata": {},
   "source": [
    "Define Sedona context"
   ]
  },
  {
   "cell_type": "code",
   "execution_count": 2,
   "id": "bcd1879b-4143-4174-a420-b305b114fd6f",
   "metadata": {
    "execution": {
     "iopub.execute_input": "2025-04-10T18:57:33.098871Z",
     "iopub.status.busy": "2025-04-10T18:57:33.098638Z",
     "iopub.status.idle": "2025-04-10T18:57:56.515561Z",
     "shell.execute_reply": "2025-04-10T18:57:56.514374Z",
     "shell.execute_reply.started": "2025-04-10T18:57:33.098854Z"
    }
   },
   "outputs": [
    {
     "name": "stderr",
     "output_type": "stream",
     "text": [
      "Setting default log level to \"WARN\".\n",
      "To adjust logging level use sc.setLogLevel(newLevel). For SparkR, use setLogLevel(newLevel).\n",
      "                                                                                \r"
     ]
    }
   ],
   "source": [
    "config = SedonaContext.builder().getOrCreate()\n",
    "sedona = SedonaContext.create(config)"
   ]
  },
  {
   "cell_type": "markdown",
   "id": "de6760d8-9b06-4654-bcea-eab3c328b550",
   "metadata": {},
   "source": [
    "Map Matching\n",
    "Map matching is a crucial step in many transportation analyses. It involves aligning a sequence of observed user positions (usually from GPS) onto a digital map, identifying the most likely path or sequence of roads that a user has traversed."
   ]
  },
  {
   "cell_type": "markdown",
   "id": "b8c49ed0-881a-44b3-9ed9-fbc9f310c4bc",
   "metadata": {},
   "source": [
    "Load Road Network Data from OSM File into Spatial Dataframe\n",
    "Utilizing the OpenStreetMap (OSM) data specific to the region to provide the foundational road network for analysis. OpenStreetMap offers detailed and open-sourced road network data, making it a prime choice for transportation studies."
   ]
  },
  {
   "cell_type": "code",
   "execution_count": 4,
   "id": "eddb2344-3a01-44ee-b5a6-08ea0943133c",
   "metadata": {
    "execution": {
     "iopub.execute_input": "2025-04-10T18:58:35.342375Z",
     "iopub.status.busy": "2025-04-10T18:58:35.342148Z",
     "iopub.status.idle": "2025-04-10T18:58:55.612151Z",
     "shell.execute_reply": "2025-04-10T18:58:55.611740Z",
     "shell.execute_reply.started": "2025-04-10T18:58:35.342359Z"
    }
   },
   "outputs": [
    {
     "name": "stderr",
     "output_type": "stream",
     "text": [
      "[Stage 9:=============================>                            (6 + 3) / 12]\r"
     ]
    },
    {
     "name": "stdout",
     "output_type": "stream",
     "text": [
      "+--------------------+----------+--------+----------+-----------+----------+-----------+\n",
      "|            geometry|       src|     dst|   src_lat|    src_lon|   dst_lat|    dst_lon|\n",
      "+--------------------+----------+--------+----------+-----------+----------+-----------+\n",
      "|LINESTRING (-83.7...|  68133325|27254523| 42.238819|-83.7390142|42.2386159|-83.7390153|\n",
      "|LINESTRING (-83.7...|9405840276|27254523|42.2386058|-83.7388915|42.2386159|-83.7390153|\n",
      "|LINESTRING (-83.7...|  68133353|27254523|42.2385675|-83.7390856|42.2386159|-83.7390153|\n",
      "|LINESTRING (-83.7...|2262917109|27254523|42.2384552|-83.7390313|42.2386159|-83.7390153|\n",
      "|LINESTRING (-83.7...|9979197063|27489080|42.3200426|-83.7272283|42.3200887|-83.7273003|\n",
      "+--------------------+----------+--------+----------+-----------+----------+-----------+\n",
      "only showing top 5 rows\n",
      "\n"
     ]
    },
    {
     "name": "stderr",
     "output_type": "stream",
     "text": [
      "                                                                                \r"
     ]
    }
   ],
   "source": [
    "from wherobots import matcher\n",
    "dfEdge = matcher.load_osm(\"s3://wherobots-examples/data/osm_AnnArbor_large.xml\", \"[car]\")\n",
    "dfEdge.show(5)"
   ]
  },
  {
   "cell_type": "code",
   "execution_count": 6,
   "id": "f7b4ea19-78d2-4a42-bb1d-b939c48b3512",
   "metadata": {
    "execution": {
     "iopub.execute_input": "2025-04-10T18:59:00.306704Z",
     "iopub.status.busy": "2025-04-10T18:59:00.306490Z",
     "iopub.status.idle": "2025-04-10T18:59:00.310380Z",
     "shell.execute_reply": "2025-04-10T18:59:00.309872Z",
     "shell.execute_reply.started": "2025-04-10T18:59:00.306687Z"
    }
   },
   "outputs": [
    {
     "data": {
      "text/plain": [
       "pyspark.sql.dataframe.DataFrame"
      ]
     },
     "execution_count": 6,
     "metadata": {},
     "output_type": "execute_result"
    }
   ],
   "source": [
    "type(dfEdge)"
   ]
  },
  {
   "cell_type": "code",
   "execution_count": 7,
   "id": "cd397a95-0d3d-426c-9efa-7f739eb54788",
   "metadata": {
    "execution": {
     "iopub.execute_input": "2025-04-10T18:59:02.467482Z",
     "iopub.status.busy": "2025-04-10T18:59:02.467250Z",
     "iopub.status.idle": "2025-04-10T18:59:04.063390Z",
     "shell.execute_reply": "2025-04-10T18:59:04.062789Z",
     "shell.execute_reply.started": "2025-04-10T18:59:02.467464Z"
    }
   },
   "outputs": [
    {
     "name": "stderr",
     "output_type": "stream",
     "text": [
      "                                                                                \r"
     ]
    },
    {
     "data": {
      "text/plain": [
       "157000"
      ]
     },
     "execution_count": 7,
     "metadata": {},
     "output_type": "execute_result"
    }
   ],
   "source": [
    "dfEdge.count()"
   ]
  },
  {
   "cell_type": "code",
   "execution_count": 8,
   "id": "490d12ab-6df6-435e-aa25-739882592aea",
   "metadata": {
    "execution": {
     "iopub.execute_input": "2025-04-10T18:59:08.706845Z",
     "iopub.status.busy": "2025-04-10T18:59:08.706577Z",
     "iopub.status.idle": "2025-04-10T18:59:13.543132Z",
     "shell.execute_reply": "2025-04-10T18:59:13.542583Z",
     "shell.execute_reply.started": "2025-04-10T18:59:08.706826Z"
    }
   },
   "outputs": [
    {
     "name": "stdout",
     "output_type": "stream",
     "text": [
      "User Guide: https://docs.kepler.gl/docs/keplergl-jupyter\n"
     ]
    },
    {
     "name": "stderr",
     "output_type": "stream",
     "text": [
      "                                                                                \r"
     ]
    },
    {
     "data": {
      "application/vnd.jupyter.widget-view+json": {
       "model_id": "7cb4b7f6d0994804ae0c4fb212ee007b",
       "version_major": 2,
       "version_minor": 0
      },
      "text/plain": [
       "KeplerGl(data={'roads': {'index': [0, 1, 2, 3, 4, 5, 6, 7, 8, 9, 10, 11, 12, 13, 14, 15, 16, 17, 18, 19, 20, 2…"
      ]
     },
     "execution_count": 8,
     "metadata": {},
     "output_type": "execute_result"
    }
   ],
   "source": [
    "SedonaKepler.create_map(dfEdge, \"roads\")"
   ]
  },
  {
   "cell_type": "markdown",
   "id": "0af71c84-5845-46d9-ade1-f7849bab88c3",
   "metadata": {},
   "source": [
    "Load GPS Tracks Data from VED Dataset\n",
    "For this analysis Vehicle Energy Dataset (VED) is used. VED is a comprehensive dataset capturing GPS trajectories of 383 vehicles (including gasoline vehicles, HEVs, and PHEV/EVs) in Ann Arbor, Michigan, USA, from Nov 2017 to Nov 2018. The data spans ~374,000 miles and includes details on fuel, energy, speed, and auxiliary power usage. Driving scenarios cover diverse conditions, from highways to traffic-dense downtown areas, across different seasons.\n",
    "\n",
    "Source: \"Vehicle Energy Dataset (VED), A Large-scale Dataset for Vehicle Energy Consumption Research\" by Geunseob (GS) Oh, David J. LeBlanc, Huei Peng. Published in IEEE Transactions on Intelligent Transportation Systems (T-ITS), 2020.\n",
    "\n",
    "GitHub: https://github.com/gsoh/VED"
   ]
  },
  {
   "cell_type": "code",
   "execution_count": 9,
   "id": "dcefca8c-b690-4b40-8cb9-d35c8eb153ef",
   "metadata": {
    "execution": {
     "iopub.execute_input": "2025-04-10T18:59:15.431550Z",
     "iopub.status.busy": "2025-04-10T18:59:15.431176Z",
     "iopub.status.idle": "2025-04-10T18:59:17.035485Z",
     "shell.execute_reply": "2025-04-10T18:59:17.034878Z",
     "shell.execute_reply.started": "2025-04-10T18:59:15.431530Z"
    }
   },
   "outputs": [
    {
     "name": "stderr",
     "output_type": "stream",
     "text": [
      "                                                                                \r"
     ]
    }
   ],
   "source": [
    "df = sedona.read.csv(\"s3://wherobots-examples/data/VED_171101_week.csv\", header=True, inferSchema=True)"
   ]
  },
  {
   "cell_type": "code",
   "execution_count": 10,
   "id": "27c52874-51e6-4050-b521-eb9709014bed",
   "metadata": {
    "execution": {
     "iopub.execute_input": "2025-04-10T19:00:11.367264Z",
     "iopub.status.busy": "2025-04-10T19:00:11.367053Z",
     "iopub.status.idle": "2025-04-10T19:00:11.370528Z",
     "shell.execute_reply": "2025-04-10T19:00:11.370189Z",
     "shell.execute_reply.started": "2025-04-10T19:00:11.367249Z"
    }
   },
   "outputs": [
    {
     "data": {
      "text/plain": [
       "pyspark.sql.dataframe.DataFrame"
      ]
     },
     "execution_count": 10,
     "metadata": {},
     "output_type": "execute_result"
    }
   ],
   "source": [
    "type(df)"
   ]
  },
  {
   "cell_type": "code",
   "execution_count": 11,
   "id": "94d685e4-e0ae-4f69-9741-133fbe8dea5c",
   "metadata": {
    "execution": {
     "iopub.execute_input": "2025-04-10T19:00:13.020504Z",
     "iopub.status.busy": "2025-04-10T19:00:13.019902Z",
     "iopub.status.idle": "2025-04-10T19:00:13.569238Z",
     "shell.execute_reply": "2025-04-10T19:00:13.568225Z",
     "shell.execute_reply.started": "2025-04-10T19:00:13.020476Z"
    }
   },
   "outputs": [
    {
     "data": {
      "text/plain": [
       "489414"
      ]
     },
     "execution_count": 11,
     "metadata": {},
     "output_type": "execute_result"
    }
   ],
   "source": [
    "df.count()"
   ]
  },
  {
   "cell_type": "code",
   "execution_count": 12,
   "id": "ff7295dc-ba09-40d7-b48c-ce4e533b388d",
   "metadata": {
    "execution": {
     "iopub.execute_input": "2025-04-10T19:00:14.457767Z",
     "iopub.status.busy": "2025-04-10T19:00:14.457522Z",
     "iopub.status.idle": "2025-04-10T19:00:14.463023Z",
     "shell.execute_reply": "2025-04-10T19:00:14.462449Z",
     "shell.execute_reply.started": "2025-04-10T19:00:14.457752Z"
    }
   },
   "outputs": [
    {
     "name": "stdout",
     "output_type": "stream",
     "text": [
      "root\n",
      " |-- DayNum: double (nullable = true)\n",
      " |-- VehId: integer (nullable = true)\n",
      " |-- Trip: integer (nullable = true)\n",
      " |-- Timestamp(ms): integer (nullable = true)\n",
      " |-- Latitude[deg]: double (nullable = true)\n",
      " |-- Longitude[deg]: double (nullable = true)\n",
      " |-- Vehicle Speed[km/h]: double (nullable = true)\n",
      " |-- MAF[g/sec]: double (nullable = true)\n",
      " |-- Engine RPM[RPM]: double (nullable = true)\n",
      " |-- Absolute Load[%]: double (nullable = true)\n",
      " |-- OAT[DegC]: double (nullable = true)\n",
      " |-- Fuel Rate[L/hr]: double (nullable = true)\n",
      " |-- Air Conditioning Power[kW]: double (nullable = true)\n",
      " |-- Air Conditioning Power[Watts]: double (nullable = true)\n",
      " |-- Heater Power[Watts]: double (nullable = true)\n",
      " |-- HV Battery Current[A]: double (nullable = true)\n",
      " |-- HV Battery SOC[%]: double (nullable = true)\n",
      " |-- HV Battery Voltage[V]: double (nullable = true)\n",
      " |-- Short Term Fuel Trim Bank 1[%]: double (nullable = true)\n",
      " |-- Short Term Fuel Trim Bank 2[%]: double (nullable = true)\n",
      " |-- Long Term Fuel Trim Bank 1[%]: double (nullable = true)\n",
      " |-- Long Term Fuel Trim Bank 2[%]: double (nullable = true)\n",
      "\n"
     ]
    }
   ],
   "source": [
    "df.printSchema()"
   ]
  },
  {
   "cell_type": "markdown",
   "id": "08934e14-2ef4-47cf-8117-1c202fbada16",
   "metadata": {},
   "source": [
    "Extracting the columns representing the vehicle id, trip id, timestamp, latitude, and longitude. Each row in the dataset represents a spatial-temporal point of a vehicle's journey, with columns detailing:\n",
    "\n",
    "VehId: Vehicle Identifier.\n",
    "Trip: Trip Identifier for a vehicle. It helps distinguish between different journeys of the same vehicle.\n",
    "Timestamp(ms): Timestamp of the data point, typically represented in milliseconds.\n",
    "Latitude[deg]: Latitude coordinate of the vehicle at the given timestamp.\n",
    "Longitude[deg]: Longitude coordinate of the vehicle at the given timestamp."
   ]
  },
  {
   "cell_type": "code",
   "execution_count": 13,
   "id": "278ea91c-1a3a-47d0-a8b7-4c4a1c748be9",
   "metadata": {
    "execution": {
     "iopub.execute_input": "2025-04-10T19:00:21.349246Z",
     "iopub.status.busy": "2025-04-10T19:00:21.348976Z",
     "iopub.status.idle": "2025-04-10T19:00:21.367988Z",
     "shell.execute_reply": "2025-04-10T19:00:21.367309Z",
     "shell.execute_reply.started": "2025-04-10T19:00:21.349231Z"
    }
   },
   "outputs": [],
   "source": [
    "df = df.select(['VehId', 'Trip', 'Timestamp(ms)','Latitude[deg]', 'Longitude[deg]'])"
   ]
  },
  {
   "cell_type": "code",
   "execution_count": 16,
   "id": "6377b089-1c4a-4ee5-8389-2fb116b15c11",
   "metadata": {
    "execution": {
     "iopub.execute_input": "2025-04-10T19:01:19.305921Z",
     "iopub.status.busy": "2025-04-10T19:01:19.305674Z",
     "iopub.status.idle": "2025-04-10T19:01:19.316130Z",
     "shell.execute_reply": "2025-04-10T19:01:19.315494Z",
     "shell.execute_reply.started": "2025-04-10T19:01:19.305905Z"
    }
   },
   "outputs": [],
   "source": [
    "df.createOrReplaceTempView(\"gps_data\")"
   ]
  },
  {
   "cell_type": "code",
   "execution_count": 17,
   "id": "e72afc43-4ac4-4907-af23-e134e7fe106e",
   "metadata": {
    "execution": {
     "iopub.execute_input": "2025-04-10T19:01:20.626646Z",
     "iopub.status.busy": "2025-04-10T19:01:20.626433Z",
     "iopub.status.idle": "2025-04-10T19:01:20.927074Z",
     "shell.execute_reply": "2025-04-10T19:01:20.926352Z",
     "shell.execute_reply.started": "2025-04-10T19:01:20.626631Z"
    }
   },
   "outputs": [
    {
     "name": "stdout",
     "output_type": "stream",
     "text": [
      "+-----+----+-------------+-------------+--------------+\n",
      "|VehId|Trip|Timestamp(ms)|Latitude[deg]|Longitude[deg]|\n",
      "+-----+----+-------------+-------------+--------------+\n",
      "|    8| 706|            0|42.2775583333|-83.6987497222|\n",
      "|    8| 706|          200|42.2775583333|-83.6987497222|\n",
      "|    8| 706|         1100|42.2775583333|-83.6987497222|\n",
      "|    8| 706|         2100|42.2775583333|-83.6987497222|\n",
      "|    8| 706|         4200|42.2775583333|-83.6987497222|\n",
      "|    8| 706|         5200|42.2782552778|-83.6988030556|\n",
      "|    8| 706|         6300|42.2782552778|-83.6988030556|\n",
      "|    8| 706|         7400|42.2782552778|-83.6988030556|\n",
      "|    8| 706|         8400|42.2782552778|-83.6988030556|\n",
      "|    8| 706|        10600|   42.2790125|-83.6989011111|\n",
      "+-----+----+-------------+-------------+--------------+\n",
      "only showing top 10 rows\n",
      "\n"
     ]
    }
   ],
   "source": [
    "df.show(10)"
   ]
  },
  {
   "cell_type": "markdown",
   "id": "4136ca52-36d3-4677-9762-dc62bb85005b",
   "metadata": {},
   "source": [
    "The combination of VehId and Trip together form a unique key for our dataset. This combination allows to isolate individual vehicle trajectories. Every unique pair signifies a specific trajectory of a vehicle. Raw GPS points, while valuable, can be scattered, redundant, and lack context when viewed independently. By organizing these individual points into coherent trajectories represented by Linestrings, we enhance our ability to interpret, analyze, and apply the data in meaningful ways."
   ]
  },
  {
   "cell_type": "markdown",
   "id": "d6886d91-fe80-44b3-89b5-64a762fe539d",
   "metadata": {},
   "source": [
    "Create LineString Geometries from GPS tracks\n",
    "A groupBy operation is performed on 'VehId' and 'Trip' columns to isolate individual trajectories. \n",
    "The resulting LineString essentially captures the responding vehicle's trajectory over time. \n",
    "The rows are first sorted by their timestamps to ensure the LineString follows the chronological order of the GPS data points.\n",
    "\n",
    "A User Defined Function (UDF) is created for Spark that utilizes the function below to process Spatial DataFrame rows into LineString geometries."
   ]
  },
  {
   "cell_type": "code",
   "execution_count": 18,
   "id": "250061b0-b4a7-48d2-9290-700c31c47797",
   "metadata": {
    "execution": {
     "iopub.execute_input": "2025-04-10T19:01:23.739472Z",
     "iopub.status.busy": "2025-04-10T19:01:23.739202Z",
     "iopub.status.idle": "2025-04-10T19:01:23.757835Z",
     "shell.execute_reply": "2025-04-10T19:01:23.757230Z",
     "shell.execute_reply.started": "2025-04-10T19:01:23.739456Z"
    }
   },
   "outputs": [],
   "source": [
    "result = sedona.sql(\"\"\"\n",
    "SELECT \n",
    "  VehId, \n",
    "  Trip,\n",
    "  COLLECT_LIST(\n",
    "    NAMED_STRUCT(\n",
    "      'timestamp', `Timestamp(ms)`,\n",
    "      'lat', `Latitude[deg]`,\n",
    "      'lon', `Longitude[deg]`\n",
    "    )\n",
    "  ) AS gps_points\n",
    "FROM gps_data\n",
    "GROUP BY VehId, Trip\n",
    "\"\"\")"
   ]
  },
  {
   "cell_type": "code",
   "execution_count": 19,
   "id": "7bb34f98-4a38-4a47-b089-e2a121d6c0e7",
   "metadata": {
    "execution": {
     "iopub.execute_input": "2025-04-10T19:01:27.257747Z",
     "iopub.status.busy": "2025-04-10T19:01:27.257491Z",
     "iopub.status.idle": "2025-04-10T19:01:27.261658Z",
     "shell.execute_reply": "2025-04-10T19:01:27.261140Z",
     "shell.execute_reply.started": "2025-04-10T19:01:27.257730Z"
    }
   },
   "outputs": [
    {
     "name": "stdout",
     "output_type": "stream",
     "text": [
      "root\n",
      " |-- VehId: integer (nullable = true)\n",
      " |-- Trip: integer (nullable = true)\n",
      " |-- gps_points: array (nullable = false)\n",
      " |    |-- element: struct (containsNull = false)\n",
      " |    |    |-- timestamp: integer (nullable = true)\n",
      " |    |    |-- lat: double (nullable = true)\n",
      " |    |    |-- lon: double (nullable = true)\n",
      "\n"
     ]
    }
   ],
   "source": [
    "result.printSchema()"
   ]
  },
  {
   "cell_type": "code",
   "execution_count": 20,
   "id": "174ce1ca-84f3-480a-83c5-000c1b15710a",
   "metadata": {
    "execution": {
     "iopub.execute_input": "2025-04-10T19:01:31.179703Z",
     "iopub.status.busy": "2025-04-10T19:01:31.178669Z",
     "iopub.status.idle": "2025-04-10T19:01:31.183726Z",
     "shell.execute_reply": "2025-04-10T19:01:31.183284Z",
     "shell.execute_reply.started": "2025-04-10T19:01:31.179676Z"
    }
   },
   "outputs": [],
   "source": [
    "@udf(returnType=ArrayType(\n",
    "    StructType([\n",
    "        StructField(\"timestamp\", LongType()),\n",
    "        StructField(\"lat\", DoubleType()),\n",
    "        StructField(\"lon\", DoubleType())\n",
    "    ])\n",
    "))\n",
    "def sort_coords(gps_points):\n",
    "    return sorted(gps_points, key=lambda x: x['timestamp'])"
   ]
  },
  {
   "cell_type": "code",
   "execution_count": 23,
   "id": "b838af75-31f0-49b7-a21a-1896cfc396f9",
   "metadata": {
    "execution": {
     "iopub.execute_input": "2025-04-10T19:01:43.675148Z",
     "iopub.status.busy": "2025-04-10T19:01:43.674540Z",
     "iopub.status.idle": "2025-04-10T19:01:43.685119Z",
     "shell.execute_reply": "2025-04-10T19:01:43.684556Z",
     "shell.execute_reply.started": "2025-04-10T19:01:43.675121Z"
    }
   },
   "outputs": [],
   "source": [
    "# Dodajemy posortowane punkty i geometrie\n",
    "with_sorted = result.withColumn(\"coords_sorted\", sort_coords(\"gps_points\"))"
   ]
  },
  {
   "cell_type": "code",
   "execution_count": 24,
   "id": "d0c15f19-9585-4d6b-85b9-3b694f4b6157",
   "metadata": {
    "execution": {
     "iopub.execute_input": "2025-04-10T19:01:55.586883Z",
     "iopub.status.busy": "2025-04-10T19:01:55.586624Z",
     "iopub.status.idle": "2025-04-10T19:01:57.101362Z",
     "shell.execute_reply": "2025-04-10T19:01:57.100773Z",
     "shell.execute_reply.started": "2025-04-10T19:01:55.586867Z"
    }
   },
   "outputs": [
    {
     "name": "stderr",
     "output_type": "stream",
     "text": [
      "[Stage 39:>                                                         (0 + 1) / 1]\r"
     ]
    },
    {
     "name": "stdout",
     "output_type": "stream",
     "text": [
      "+-----+----+--------------------+--------------------+\n",
      "|VehId|Trip|          gps_points|       coords_sorted|\n",
      "+-----+----+--------------------+--------------------+\n",
      "|    8| 707|[{0, 42.277681388...|[{0, 42.277681388...|\n",
      "|   10|1558|[{0, 42.277065833...|[{0, 42.277065833...|\n",
      "|   10|1585|[{0, 42.2507675, ...|[{0, 42.2507675, ...|\n",
      "|  116|2471|[{0, 42.275163611...|[{0, 42.275163611...|\n",
      "|  116|2480|[{0, 42.277565277...|[{0, 42.277565277...|\n",
      "|  116|2506|[{0, 42.277501111...|[{0, 42.277501111...|\n",
      "|  124| 773|[{0, 42.264340833...|[{0, 42.264340833...|\n",
      "|  124| 776|[{0, 42.281764444...|[{0, 42.281764444...|\n",
      "|  128| 603|[{0, 42.305195833...|[{0, 42.305195833...|\n",
      "|  133|1398|[{0, 42.2641025, ...|[{0, 42.2641025, ...|\n",
      "|  133|1399|[{0, 42.230767222...|[{0, 42.230767222...|\n",
      "|  140|1222|[{0, 42.276283611...|[{0, 42.276283611...|\n",
      "|  150| 504|[{0, 42.274460277...|[{0, 42.274460277...|\n",
      "|  155|1516|[{0, 42.245740833...|[{0, 42.245740833...|\n",
      "|  155|1533|[{0, 42.284663333...|[{0, 42.284663333...|\n",
      "|  155|1534|[{363000, 42.2470...|[{0, 42.234061111...|\n",
      "|  156| 912|[{0, 42.309303055...|[{0, 42.309303055...|\n",
      "|  156| 913|[{0, 42.293580555...|[{0, 42.293580555...|\n",
      "|  161| 360|[{0, 42.2355225, ...|[{0, 42.2355225, ...|\n",
      "|  174|1145|[{0, 42.244144722...|[{0, 42.244144722...|\n",
      "+-----+----+--------------------+--------------------+\n",
      "only showing top 20 rows\n",
      "\n"
     ]
    },
    {
     "name": "stderr",
     "output_type": "stream",
     "text": [
      "                                                                                \r"
     ]
    }
   ],
   "source": [
    "with_sorted.show()"
   ]
  },
  {
   "cell_type": "code",
   "execution_count": 25,
   "id": "2e92fb3b-aef6-4dd1-affd-d020dff192c0",
   "metadata": {
    "execution": {
     "iopub.execute_input": "2025-04-10T19:02:04.379547Z",
     "iopub.status.busy": "2025-04-10T19:02:04.378700Z",
     "iopub.status.idle": "2025-04-10T19:02:04.382516Z",
     "shell.execute_reply": "2025-04-10T19:02:04.382080Z",
     "shell.execute_reply.started": "2025-04-10T19:02:04.379522Z"
    }
   },
   "outputs": [],
   "source": [
    "@udf(returnType=GeometryType())\n",
    "def make_linestring(gps_points):\n",
    "    # Tworzymy pary (lon, lat)\n",
    "    points = [(p['lon'], p['lat']) for p in gps_points]\n",
    "    return LineString(points)"
   ]
  },
  {
   "cell_type": "code",
   "execution_count": 26,
   "id": "b9460143-bf23-4d5c-b7fe-e593b99b72fa",
   "metadata": {
    "execution": {
     "iopub.execute_input": "2025-04-10T19:02:05.178868Z",
     "iopub.status.busy": "2025-04-10T19:02:05.178663Z",
     "iopub.status.idle": "2025-04-10T19:02:05.196215Z",
     "shell.execute_reply": "2025-04-10T19:02:05.195811Z",
     "shell.execute_reply.started": "2025-04-10T19:02:05.178854Z"
    }
   },
   "outputs": [],
   "source": [
    "final_df = with_sorted.withColumn(\"geometry\", make_linestring(\"coords_sorted\"))"
   ]
  },
  {
   "cell_type": "code",
   "execution_count": 27,
   "id": "e42c24c6-c34f-4c91-bef1-3c8c8ffecec3",
   "metadata": {
    "execution": {
     "iopub.execute_input": "2025-04-10T19:02:05.827259Z",
     "iopub.status.busy": "2025-04-10T19:02:05.826993Z",
     "iopub.status.idle": "2025-04-10T19:02:09.554169Z",
     "shell.execute_reply": "2025-04-10T19:02:09.553495Z",
     "shell.execute_reply.started": "2025-04-10T19:02:05.827241Z"
    }
   },
   "outputs": [
    {
     "name": "stderr",
     "output_type": "stream",
     "text": [
      "[Stage 42:>                                                         (0 + 1) / 1]\r"
     ]
    },
    {
     "name": "stdout",
     "output_type": "stream",
     "text": [
      "+-----+----+--------------------+--------------------+--------------------+\n",
      "|VehId|Trip|          gps_points|       coords_sorted|            geometry|\n",
      "+-----+----+--------------------+--------------------+--------------------+\n",
      "|    8| 707|[{0, 42.277681388...|[{0, 42.277681388...|LINESTRING (-83.6...|\n",
      "|   10|1558|[{0, 42.277065833...|[{0, 42.277065833...|LINESTRING (-83.7...|\n",
      "|   10|1585|[{0, 42.2507675, ...|[{0, 42.2507675, ...|LINESTRING (-83.7...|\n",
      "|  116|2471|[{0, 42.275163611...|[{0, 42.275163611...|LINESTRING (-83.7...|\n",
      "|  116|2480|[{0, 42.277565277...|[{0, 42.277565277...|LINESTRING (-83.7...|\n",
      "|  116|2506|[{0, 42.277501111...|[{0, 42.277501111...|LINESTRING (-83.7...|\n",
      "|  124| 773|[{0, 42.264340833...|[{0, 42.264340833...|LINESTRING (-83.7...|\n",
      "|  124| 776|[{0, 42.281764444...|[{0, 42.281764444...|LINESTRING (-83.7...|\n",
      "|  128| 603|[{0, 42.305195833...|[{0, 42.305195833...|LINESTRING (-83.6...|\n",
      "|  133|1398|[{0, 42.2641025, ...|[{0, 42.2641025, ...|LINESTRING (-83.7...|\n",
      "|  133|1399|[{0, 42.230767222...|[{0, 42.230767222...|LINESTRING (-83.6...|\n",
      "|  140|1222|[{0, 42.276283611...|[{0, 42.276283611...|LINESTRING (-83.7...|\n",
      "|  150| 504|[{0, 42.274460277...|[{0, 42.274460277...|LINESTRING (-83.7...|\n",
      "|  155|1516|[{0, 42.245740833...|[{0, 42.245740833...|LINESTRING (-83.6...|\n",
      "|  155|1533|[{0, 42.284663333...|[{0, 42.284663333...|LINESTRING (-83.8...|\n",
      "|  155|1534|[{0, 42.234061111...|[{0, 42.234061111...|LINESTRING (-83.7...|\n",
      "|  156| 912|[{0, 42.309303055...|[{0, 42.309303055...|LINESTRING (-83.6...|\n",
      "|  156| 913|[{0, 42.293580555...|[{0, 42.293580555...|LINESTRING (-83.7...|\n",
      "|  161| 360|[{0, 42.2355225, ...|[{0, 42.2355225, ...|LINESTRING (-83.7...|\n",
      "|  174|1145|[{0, 42.244144722...|[{0, 42.244144722...|LINESTRING (-83.7...|\n",
      "+-----+----+--------------------+--------------------+--------------------+\n",
      "only showing top 20 rows\n",
      "\n"
     ]
    },
    {
     "name": "stderr",
     "output_type": "stream",
     "text": [
      "                                                                                \r"
     ]
    }
   ],
   "source": [
    "final_df.show()"
   ]
  },
  {
   "cell_type": "code",
   "execution_count": 29,
   "id": "206b9089-292c-440f-afa5-53bd47196515",
   "metadata": {
    "execution": {
     "iopub.execute_input": "2025-04-10T19:02:16.386410Z",
     "iopub.status.busy": "2025-04-10T19:02:16.386154Z",
     "iopub.status.idle": "2025-04-10T19:02:16.390281Z",
     "shell.execute_reply": "2025-04-10T19:02:16.389771Z",
     "shell.execute_reply.started": "2025-04-10T19:02:16.386393Z"
    }
   },
   "outputs": [
    {
     "name": "stdout",
     "output_type": "stream",
     "text": [
      "root\n",
      " |-- VehId: integer (nullable = true)\n",
      " |-- Trip: integer (nullable = true)\n",
      " |-- gps_points: array (nullable = false)\n",
      " |    |-- element: struct (containsNull = false)\n",
      " |    |    |-- timestamp: integer (nullable = true)\n",
      " |    |    |-- lat: double (nullable = true)\n",
      " |    |    |-- lon: double (nullable = true)\n",
      " |-- coords_sorted: array (nullable = true)\n",
      " |    |-- element: struct (containsNull = true)\n",
      " |    |    |-- timestamp: long (nullable = true)\n",
      " |    |    |-- lat: double (nullable = true)\n",
      " |    |    |-- lon: double (nullable = true)\n",
      " |-- geometry: geometry (nullable = true)\n",
      "\n"
     ]
    }
   ],
   "source": [
    "final_df.printSchema()"
   ]
  },
  {
   "cell_type": "markdown",
   "id": "afedd6f8-474e-42be-b5aa-9fe48b5cca76",
   "metadata": {},
   "source": [
    "Create a Spatial DataFrame of GPS Tracks"
   ]
  },
  {
   "cell_type": "code",
   "execution_count": 32,
   "id": "cad1d04e-0224-4074-886d-694fcd857963",
   "metadata": {
    "execution": {
     "iopub.execute_input": "2025-04-10T19:04:48.459512Z",
     "iopub.status.busy": "2025-04-10T19:04:48.459295Z",
     "iopub.status.idle": "2025-04-10T19:04:51.946980Z",
     "shell.execute_reply": "2025-04-10T19:04:51.946314Z",
     "shell.execute_reply.started": "2025-04-10T19:04:48.459497Z"
    }
   },
   "outputs": [
    {
     "name": "stderr",
     "output_type": "stream",
     "text": [
      "[Stage 45:======================================>                   (4 + 2) / 6]\r"
     ]
    },
    {
     "name": "stdout",
     "output_type": "stream",
     "text": [
      "+---+-----+----+--------------------+--------------------+\n",
      "|ids|VehId|Trip|       coords_sorted|            geometry|\n",
      "+---+-----+----+--------------------+--------------------+\n",
      "|  0|    8| 706|[{0, 42.277558333...|LINESTRING (-83.6...|\n",
      "|  1|    8| 707|[{0, 42.277681388...|LINESTRING (-83.6...|\n",
      "|  2|    8| 708|[{0, 42.261997222...|LINESTRING (-83.7...|\n",
      "|  3|   10|1558|[{0, 42.277065833...|LINESTRING (-83.7...|\n",
      "|  4|   10|1561|[{0, 42.286599722...|LINESTRING (-83.7...|\n",
      "|  5|   10|1567|[{0, 42.281418333...|LINESTRING (-83.7...|\n",
      "|  6|   10|1568|[{0, 42.281196666...|LINESTRING (-83.7...|\n",
      "|  7|   10|1572|[{0, 42.286538611...|LINESTRING (-83.7...|\n",
      "|  8|   10|1578|[{0, 42.275795277...|LINESTRING (-83.7...|\n",
      "|  9|   10|1582|[{0, 42.275791944...|LINESTRING (-83.7...|\n",
      "+---+-----+----+--------------------+--------------------+\n",
      "\n"
     ]
    },
    {
     "name": "stderr",
     "output_type": "stream",
     "text": [
      "                                                                                \r"
     ]
    }
   ],
   "source": [
    "# Using row_number to generate unique IDs\n",
    "window_spec = Window.partitionBy(lit(5)).orderBy(\"VehId\", \"Trip\")  # Ordering by existing columns to provide some deterministic order\n",
    "final_df = final_df.withColumn(\"ids\", row_number().over(window_spec) - 1)\n",
    "final_df = final_df.filter(final_df['ids'] < 10)\n",
    "final_df = final_df.select(\"ids\", \"VehId\", \"Trip\", \"coords_sorted\", \"geometry\")\n",
    "final_df.show()"
   ]
  },
  {
   "cell_type": "code",
   "execution_count": 34,
   "id": "491ff5ce-18c9-42b3-b2fb-62816bfe3321",
   "metadata": {
    "execution": {
     "iopub.execute_input": "2025-04-10T19:05:57.827803Z",
     "iopub.status.busy": "2025-04-10T19:05:57.827587Z",
     "iopub.status.idle": "2025-04-10T19:05:59.845279Z",
     "shell.execute_reply": "2025-04-10T19:05:59.844724Z",
     "shell.execute_reply.started": "2025-04-10T19:05:57.827787Z"
    }
   },
   "outputs": [
    {
     "name": "stdout",
     "output_type": "stream",
     "text": [
      "User Guide: https://docs.kepler.gl/docs/keplergl-jupyter\n"
     ]
    },
    {
     "name": "stderr",
     "output_type": "stream",
     "text": [
      "                                                                                \r"
     ]
    },
    {
     "data": {
      "application/vnd.jupyter.widget-view+json": {
       "model_id": "33b62faf91494f0599a9b2b4558a7668",
       "version_major": 2,
       "version_minor": 0
      },
      "text/plain": [
       "KeplerGl(data={'roads': {'index': [0, 1, 2, 3, 4, 5, 6, 7, 8, 9], 'columns': ['ids', 'VehId', 'Trip', 'coords_…"
      ]
     },
     "execution_count": 34,
     "metadata": {},
     "output_type": "execute_result"
    }
   ],
   "source": [
    "SedonaKepler.create_map(final_df, \"roads\")"
   ]
  },
  {
   "cell_type": "markdown",
   "id": "98554eac-2b6b-48ea-9c99-e1989cfa7630",
   "metadata": {},
   "source": [
    "Perform Map Matching"
   ]
  },
  {
   "cell_type": "code",
   "execution_count": 35,
   "id": "9947def1-0460-4db9-81e4-b4c37cba6b28",
   "metadata": {
    "execution": {
     "iopub.execute_input": "2025-04-10T19:06:20.785691Z",
     "iopub.status.busy": "2025-04-10T19:06:20.785116Z",
     "iopub.status.idle": "2025-04-10T19:06:24.241189Z",
     "shell.execute_reply": "2025-04-10T19:06:24.240629Z",
     "shell.execute_reply.started": "2025-04-10T19:06:20.785664Z"
    }
   },
   "outputs": [
    {
     "name": "stderr",
     "output_type": "stream",
     "text": [
      "                                                                                \r"
     ]
    }
   ],
   "source": [
    "sedona.conf.set(\"wherobots.tools.mm.maxdist\", \"100\")\n",
    "sedona.conf.set(\"wherobots.tools.mm.maxdistinit\", \"100\")\n",
    "sedona.conf.set(\"wherobots.tools.mm.obsnoise\", \"40\")\n",
    "\n",
    "dfMmResult = matcher.match(dfEdge, final_df, \"geometry\", \"geometry\")"
   ]
  },
  {
   "cell_type": "markdown",
   "id": "c6e07647-1844-4c66-87fa-dafdbe878336",
   "metadata": {},
   "source": [
    "results of a map matching process on GPS trajectories:"
   ]
  },
  {
   "cell_type": "markdown",
   "id": "84c36695-3d77-4db9-979e-47e69382915c",
   "metadata": {},
   "source": [
    "ids: A unique identifier for each trajectory, representing a distinct vehicle journey.\n",
    "observed_points: Represents the original GPS trajectories. These are the linestrings formed from the raw GPS points collected during each vehicle journey.\n",
    "matched_points: The processed trajectories post map-matching. These linestrings are aligned onto the actual road network, correcting for any GPS inaccuracies.\n",
    "matched_nodes: A list of node identifiers from the road network that the matched trajectory passes through. \n",
    "These nodes correspond to intersections, turns, or other significant points in the road network."
   ]
  },
  {
   "cell_type": "code",
   "execution_count": 36,
   "id": "8ebe461b-8b26-4d16-8b1c-5ea57ded1ca3",
   "metadata": {
    "execution": {
     "iopub.execute_input": "2025-04-10T19:09:36.977116Z",
     "iopub.status.busy": "2025-04-10T19:09:36.976808Z",
     "iopub.status.idle": "2025-04-10T19:09:40.387829Z",
     "shell.execute_reply": "2025-04-10T19:09:40.387314Z",
     "shell.execute_reply.started": "2025-04-10T19:09:36.977100Z"
    }
   },
   "outputs": [
    {
     "name": "stderr",
     "output_type": "stream",
     "text": [
      "                                                                                \r"
     ]
    },
    {
     "name": "stdout",
     "output_type": "stream",
     "text": [
      "+---+--------------------+--------------------+--------------------+\n",
      "|ids|     observed_points|      matched_points|       matched_nodes|\n",
      "+---+--------------------+--------------------+--------------------+\n",
      "|  3|LINESTRING (-83.7...|LINESTRING (-83.7...|[62486100, 535279...|\n",
      "|  4|LINESTRING (-83.7...|LINESTRING (-83.7...|[8358943871, 6255...|\n",
      "|  5|LINESTRING (-83.7...|LINESTRING (-83.7...|[6801984236, 2329...|\n",
      "|  6|LINESTRING (-83.7...|LINESTRING (-83.7...|[62542029, 680179...|\n",
      "|  7|LINESTRING (-83.7...|LINESTRING (-83.7...|[4939334651, 6248...|\n",
      "|  8|LINESTRING (-83.7...|LINESTRING (-83.7...|[4609790945, 6250...|\n",
      "|  9|LINESTRING (-83.7...|LINESTRING (-83.7...|[4609790927, 4949...|\n",
      "|  0|LINESTRING (-83.6...|LINESTRING (-83.6...|[2375582419, 6250...|\n",
      "|  1|LINESTRING (-83.6...|LINESTRING (-83.6...|[5366563446, 6254...|\n",
      "|  2|LINESTRING (-83.7...|LINESTRING (-83.7...|[62540699, 625473...|\n",
      "+---+--------------------+--------------------+--------------------+\n",
      "\n"
     ]
    }
   ],
   "source": [
    "dfMmResult.show()"
   ]
  },
  {
   "cell_type": "markdown",
   "id": "86dfe9b5-a677-480a-a120-6fec44c538f0",
   "metadata": {},
   "source": [
    "Visualize the result using SedonaKepler"
   ]
  },
  {
   "cell_type": "code",
   "execution_count": 40,
   "id": "6e865427-3b6d-43a4-b70b-f8c70dc2af2d",
   "metadata": {
    "execution": {
     "iopub.execute_input": "2025-04-10T19:24:49.662958Z",
     "iopub.status.busy": "2025-04-10T19:24:49.662696Z",
     "iopub.status.idle": "2025-04-10T19:24:54.783884Z",
     "shell.execute_reply": "2025-04-10T19:24:54.783377Z",
     "shell.execute_reply.started": "2025-04-10T19:24:49.662941Z"
    }
   },
   "outputs": [
    {
     "name": "stdout",
     "output_type": "stream",
     "text": [
      "User Guide: https://docs.kepler.gl/docs/keplergl-jupyter\n"
     ]
    },
    {
     "data": {
      "application/vnd.jupyter.widget-view+json": {
       "model_id": "1b38ac85f21e44ec9b6eb8e010a1f6bc",
       "version_major": 2,
       "version_minor": 0
      },
      "text/plain": [
       "KeplerGl(data={'Road Network': {'index': [0, 1, 2, 3, 4, 5, 6, 7, 8, 9, 10, 11, 12, 13, 14, 15, 16, 17, 18, 19…"
      ]
     },
     "execution_count": 40,
     "metadata": {},
     "output_type": "execute_result"
    }
   ],
   "source": [
    "mapAll = SedonaKepler.create_map()\n",
    "\n",
    "SedonaKepler.add_df(mapAll, dfEdge, name=\"Road Network\")\n",
    "SedonaKepler.add_df(mapAll, dfMmResult.selectExpr(\"observed_points AS geometry\"), name=\"Observed Points\")\n",
    "SedonaKepler.add_df(mapAll, dfMmResult.selectExpr(\"matched_points AS geometry\"), name=\"Matched Points\")\n",
    "# mapAll.config = map_config\n",
    "\n",
    "mapAll"
   ]
  },
  {
   "cell_type": "markdown",
   "id": "6524aa48-894b-4aca-b943-1911c5060a31",
   "metadata": {},
   "source": [
    "displaying the data corresponding to 'id' value 2"
   ]
  },
  {
   "cell_type": "code",
   "execution_count": null,
   "id": "d0a348f3-42dc-48eb-a4d7-dea04e18524f",
   "metadata": {
    "execution": {
     "iopub.execute_input": "2025-04-10T19:19:00.880990Z",
     "iopub.status.busy": "2025-04-10T19:19:00.880664Z"
    }
   },
   "outputs": [
    {
     "name": "stdout",
     "output_type": "stream",
     "text": [
      "User Guide: https://docs.kepler.gl/docs/keplergl-jupyter\n"
     ]
    }
   ],
   "source": [
    "mapFil = SedonaKepler.create_map()\n",
    "\n",
    "SedonaKepler.add_df(mapFil, dfEdge, name=\"Road Network\")\n",
    "SedonaKepler.add_df(mapFil, dfMmResult.filter(dfMmResult['ids']==2).selectExpr(\"observed_points AS geometry\"), name=\"Observed Points\")\n",
    "SedonaKepler.add_df(mapFil, dfMmResult.filter(dfMmResult['ids']==2).selectExpr(\"matched_points AS geometry\"), name=\"Matched Points\")\n",
    "# mapFil.config = map_config\n",
    "\n",
    "mapFil"
   ]
  },
  {
   "cell_type": "code",
   "execution_count": null,
   "id": "b635826e-32e5-4afd-b57f-b1375ac23328",
   "metadata": {},
   "outputs": [],
   "source": []
  }
 ],
 "metadata": {
  "kernelspec": {
   "display_name": "Python 3 (ipykernel)",
   "language": "python",
   "name": "python3"
  },
  "language_info": {
   "codemirror_mode": {
    "name": "ipython",
    "version": 3
   },
   "file_extension": ".py",
   "mimetype": "text/x-python",
   "name": "python",
   "nbconvert_exporter": "python",
   "pygments_lexer": "ipython3",
   "version": "3.11.11"
  }
 },
 "nbformat": 4,
 "nbformat_minor": 5
}
